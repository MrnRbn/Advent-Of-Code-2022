{
 "cells": [
  {
   "cell_type": "code",
   "execution_count": 29,
   "metadata": {},
   "outputs": [],
   "source": [
    "import csv\n",
    "count = 0\n",
    "count_overlap = 0\n",
    "with open('input.txt', newline='') as inputfile:\n",
    "    for row in csv.reader(inputfile):\n",
    "        a = row[0].split('-')\n",
    "        a = range(int(a[0]), int(a[1])+1)\n",
    "\n",
    "        b = row[1].split('-')\n",
    "        b = range(int(b[0]), int(b[1])+1)\n",
    "        \n",
    "        if (set(a) <= set(b)) or (set(b) <= set(a)):\n",
    "            count += 1\n",
    "        \n",
    "        if set(a) & set(b):\n",
    "            count_overlap += 1"
   ]
  },
  {
   "cell_type": "code",
   "execution_count": 30,
   "metadata": {},
   "outputs": [
    {
     "name": "stdout",
     "output_type": "stream",
     "text": [
      "Solution for part 1 is: 584\n",
      "Solution for part 2 is: 933\n"
     ]
    }
   ],
   "source": [
    "print(f'Solution for part 1 is: {count}')\n",
    "print(f'Solution for part 2 is: {count_overlap}')"
   ]
  },
  {
   "cell_type": "code",
   "execution_count": null,
   "metadata": {},
   "outputs": [],
   "source": []
  }
 ],
 "metadata": {
  "kernelspec": {
   "display_name": "Python 3",
   "language": "python",
   "name": "python3"
  },
  "language_info": {
   "codemirror_mode": {
    "name": "ipython",
    "version": 3
   },
   "file_extension": ".py",
   "mimetype": "text/x-python",
   "name": "python",
   "nbconvert_exporter": "python",
   "pygments_lexer": "ipython3",
   "version": "3.11.6"
  }
 },
 "nbformat": 4,
 "nbformat_minor": 2
}
