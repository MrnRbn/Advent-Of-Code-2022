{
 "cells": [
  {
   "cell_type": "code",
   "execution_count": 36,
   "metadata": {},
   "outputs": [],
   "source": [
    "import csv\n",
    "\n",
    "abc = list('abcdefghijklmnopqrstuvwxyzABCDEFGHIJKLMNOPQRSTUVWXYZ')\n",
    "\n",
    "with open('input.txt', newline='') as inputfile:\n",
    "    priorities = []\n",
    "    for row in csv.reader(inputfile):\n",
    "        all_items = row[0]\n",
    "        total_items_per_compartiment = int(len(all_items) / 2)\n",
    "        first_compartiment = all_items[:total_items_per_compartiment]\n",
    "        second_compartiment = all_items[total_items_per_compartiment:]\n",
    "        \n",
    "        common_item = list(set(first_compartiment) & set(second_compartiment))[0]\n",
    "        priorities.append(abc.index(common_item) + 1)"
   ]
  },
  {
   "cell_type": "code",
   "execution_count": 37,
   "metadata": {},
   "outputs": [
    {
     "name": "stdout",
     "output_type": "stream",
     "text": [
      "Solution to part 1: 8176\n"
     ]
    }
   ],
   "source": [
    "print(f'Solution to part 1: {sum(priorities)}')"
   ]
  },
  {
   "cell_type": "code",
   "execution_count": 38,
   "metadata": {},
   "outputs": [],
   "source": [
    "with open('input.txt', newline='') as inputfile:\n",
    "    priorities = []\n",
    "    i = 0\n",
    "    single_group = []\n",
    "    for row in csv.reader(inputfile):\n",
    "        i += 1\n",
    "        all_items = row[0]\n",
    "        single_group.append(all_items)\n",
    "        \n",
    "        if i==3 :\n",
    "            common_badge = list(set(single_group[0]) & set(single_group[1]) & set(single_group[2]))[0]\n",
    "            priorities.append(abc.index(common_badge) + 1)      \n",
    "\n",
    "            i = 0\n",
    "            single_group.clear()"
   ]
  },
  {
   "cell_type": "code",
   "execution_count": 39,
   "metadata": {},
   "outputs": [
    {
     "name": "stdout",
     "output_type": "stream",
     "text": [
      "Solution to part 2: 2689\n"
     ]
    }
   ],
   "source": [
    "\n",
    "print(f'Solution to part 2: {sum(priorities)}')"
   ]
  },
  {
   "cell_type": "code",
   "execution_count": null,
   "metadata": {},
   "outputs": [],
   "source": []
  }
 ],
 "metadata": {
  "kernelspec": {
   "display_name": "Python 3",
   "language": "python",
   "name": "python3"
  },
  "language_info": {
   "codemirror_mode": {
    "name": "ipython",
    "version": 3
   },
   "file_extension": ".py",
   "mimetype": "text/x-python",
   "name": "python",
   "nbconvert_exporter": "python",
   "pygments_lexer": "ipython3",
   "version": "3.11.6"
  }
 },
 "nbformat": 4,
 "nbformat_minor": 2
}
