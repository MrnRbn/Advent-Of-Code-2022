{
 "cells": [
  {
   "cell_type": "code",
   "execution_count": 47,
   "metadata": {},
   "outputs": [
    {
     "data": {
      "text/html": [
       "<div>\n",
       "<style scoped>\n",
       "    .dataframe tbody tr th:only-of-type {\n",
       "        vertical-align: middle;\n",
       "    }\n",
       "\n",
       "    .dataframe tbody tr th {\n",
       "        vertical-align: top;\n",
       "    }\n",
       "\n",
       "    .dataframe thead th {\n",
       "        text-align: right;\n",
       "    }\n",
       "</style>\n",
       "<table border=\"1\" class=\"dataframe\">\n",
       "  <thead>\n",
       "    <tr style=\"text-align: right;\">\n",
       "      <th></th>\n",
       "      <th>col1</th>\n",
       "    </tr>\n",
       "  </thead>\n",
       "  <tbody>\n",
       "    <tr>\n",
       "      <th>0</th>\n",
       "      <td>(C, Y)</td>\n",
       "    </tr>\n",
       "    <tr>\n",
       "      <th>1</th>\n",
       "      <td>(C, Y)</td>\n",
       "    </tr>\n",
       "    <tr>\n",
       "      <th>2</th>\n",
       "      <td>(C, Y)</td>\n",
       "    </tr>\n",
       "    <tr>\n",
       "      <th>3</th>\n",
       "      <td>(B, Z)</td>\n",
       "    </tr>\n",
       "    <tr>\n",
       "      <th>4</th>\n",
       "      <td>(C, Y)</td>\n",
       "    </tr>\n",
       "    <tr>\n",
       "      <th>...</th>\n",
       "      <td>...</td>\n",
       "    </tr>\n",
       "    <tr>\n",
       "      <th>2495</th>\n",
       "      <td>(A, X)</td>\n",
       "    </tr>\n",
       "    <tr>\n",
       "      <th>2496</th>\n",
       "      <td>(C, Y)</td>\n",
       "    </tr>\n",
       "    <tr>\n",
       "      <th>2497</th>\n",
       "      <td>(C, X)</td>\n",
       "    </tr>\n",
       "    <tr>\n",
       "      <th>2498</th>\n",
       "      <td>(A, Y)</td>\n",
       "    </tr>\n",
       "    <tr>\n",
       "      <th>2499</th>\n",
       "      <td>(A, X)</td>\n",
       "    </tr>\n",
       "  </tbody>\n",
       "</table>\n",
       "<p>2500 rows × 1 columns</p>\n",
       "</div>"
      ],
      "text/plain": [
       "        col1\n",
       "0     (C, Y)\n",
       "1     (C, Y)\n",
       "2     (C, Y)\n",
       "3     (B, Z)\n",
       "4     (C, Y)\n",
       "...      ...\n",
       "2495  (A, X)\n",
       "2496  (C, Y)\n",
       "2497  (C, X)\n",
       "2498  (A, Y)\n",
       "2499  (A, X)\n",
       "\n",
       "[2500 rows x 1 columns]"
      ]
     },
     "execution_count": 47,
     "metadata": {},
     "output_type": "execute_result"
    }
   ],
   "source": [
    "import pandas as pd\n",
    "\n",
    "input = pd.read_csv('input.txt', header=None, names=['col1'])\n",
    "input['col1'] = input['col1'].apply(lambda x : tuple(x.split()))\n",
    "input"
   ]
  },
  {
   "cell_type": "markdown",
   "metadata": {},
   "source": [
    "### Part 1"
   ]
  },
  {
   "cell_type": "code",
   "execution_count": 49,
   "metadata": {},
   "outputs": [],
   "source": [
    "score_shape = {\n",
    "    'X' : 1,  # Rock\n",
    "    'Y' : 2, # Paper\n",
    "    'Z' : 3 # Scissors\n",
    "}\n",
    "\n",
    "score_outcome = {\n",
    "    ('A', 'X') : 3,  # Rock / Rock\n",
    "    ('A', 'Y') : 6,  # Rock / Paper\n",
    "    ('A', 'Z') : 0,  # Rock / Scissors\n",
    "\n",
    "\n",
    "    ('B', 'X') : 0,  # Paper / Rock\n",
    "    ('B', 'Y') : 3,  # Paper / Paper\n",
    "    ('B', 'Z') : 6,  # Paper / Scissors\n",
    "    \n",
    "    ('C', 'X') : 6,  # Scissors / Rock\n",
    "    ('C', 'Y') : 0,  # Scissors / Paper\n",
    "    ('C', 'Z') : 3,  # Scissors / Scissors\n",
    "}"
   ]
  },
  {
   "cell_type": "code",
   "execution_count": 51,
   "metadata": {},
   "outputs": [
    {
     "data": {
      "text/plain": [
       "9177"
      ]
     },
     "execution_count": 51,
     "metadata": {},
     "output_type": "execute_result"
    }
   ],
   "source": [
    "\n",
    "input['score_part1'] = input['col1'].apply(lambda x : score_outcome[x] + score_shape[x[1]])\n",
    "input['score_part1'].sum()"
   ]
  },
  {
   "cell_type": "markdown",
   "metadata": {},
   "source": [
    "### Part 2"
   ]
  },
  {
   "cell_type": "code",
   "execution_count": 57,
   "metadata": {},
   "outputs": [],
   "source": [
    "score_shape = {\n",
    "    'A' : 1,  # Rock\n",
    "    'B' : 2, # Paper\n",
    "    'C' : 3 # Scissors\n",
    "}\n",
    "\n",
    "outcomes = {\n",
    "    ('A', 'A') : 'Y',  # Rock / Rock\n",
    "    ('A', 'B') : 'Z',  # Rock / Paper\n",
    "    ('A', 'C') : 'X',  # Rock / Scissors\n",
    "\n",
    "\n",
    "    ('B', 'A') : 'X',  # Paper / Rock\n",
    "    ('B', 'B') : 'Y',  # Paper / Paper\n",
    "    ('B', 'C') : 'Z',  # Paper / Scissors\n",
    "    \n",
    "    ('C', 'A') : 'Z',  # Scissors / Rock\n",
    "    ('C', 'B') : 'X',  # Scissors / Paper\n",
    "    ('C', 'C') : 'Y',  # Scissors / Scissors\n",
    "}\n",
    "\n",
    "score_outcome = {\n",
    "    'X' : 0,  # Loose\n",
    "    'Y' : 3, # Draw\n",
    "    'Z' : 6 # Win\n",
    "}\n"
   ]
  },
  {
   "cell_type": "code",
   "execution_count": 61,
   "metadata": {},
   "outputs": [],
   "source": [
    "def get_my_choice(opponent_choice, outcome):\n",
    "    for key, value in outcomes.items():\n",
    "        if key[0] == opponent_choice and value == outcome :\n",
    "            return key[1]\n",
    "\n",
    "def get_score_part2(input_tuple):\n",
    "    opponent_choice = input_tuple[0]\n",
    "    outcome = input_tuple[1]\n",
    "\n",
    "    my_choice = get_my_choice(opponent_choice, outcome)\n",
    "\n",
    "    return score_shape[my_choice] + score_outcome[outcome]\n"
   ]
  },
  {
   "cell_type": "code",
   "execution_count": 63,
   "metadata": {},
   "outputs": [
    {
     "data": {
      "text/plain": [
       "12111"
      ]
     },
     "execution_count": 63,
     "metadata": {},
     "output_type": "execute_result"
    }
   ],
   "source": [
    "input['score_part2'] = input['col1'].apply(lambda x: get_score_part2(x))\n",
    "input['score_part2'].sum()"
   ]
  },
  {
   "cell_type": "code",
   "execution_count": null,
   "metadata": {},
   "outputs": [],
   "source": []
  }
 ],
 "metadata": {
  "kernelspec": {
   "display_name": "Python 3",
   "language": "python",
   "name": "python3"
  },
  "language_info": {
   "codemirror_mode": {
    "name": "ipython",
    "version": 3
   },
   "file_extension": ".py",
   "mimetype": "text/x-python",
   "name": "python",
   "nbconvert_exporter": "python",
   "pygments_lexer": "ipython3",
   "version": "3.11.6"
  }
 },
 "nbformat": 4,
 "nbformat_minor": 2
}
